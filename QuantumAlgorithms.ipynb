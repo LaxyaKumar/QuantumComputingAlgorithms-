{
  "nbformat": 4,
  "nbformat_minor": 0,
  "metadata": {
    "colab": {
      "provenance": [],
      "collapsed_sections": []
    },
    "kernelspec": {
      "name": "python3",
      "display_name": "Python 3"
    },
    "language_info": {
      "name": "python"
    }
  },
  "cells": [
    {
      "cell_type": "markdown",
      "source": [
        "# Video 4: Normalizing Qubits\n"
      ],
      "metadata": {
        "id": "ttUiWqa0DigS"
      }
    },
    {
      "cell_type": "code",
      "execution_count": null,
      "metadata": {
        "id": "mfxB2kntARtQ"
      },
      "outputs": [],
      "source": [
        "import numpy as np\n",
        "\n",
        "\n",
        "class Qubit:\n",
        "  def __init__(self,x,y):\n",
        "    self.x = x\n",
        "    self.y = y \n",
        "\n",
        "  def normalize(self):\n",
        "    length = np.sqrt(np.abs(self.x)**2 + np.abs(self.y)**2)  #length = sqrt(x^2 + y^2)\n",
        "    self.x  = self.x/length #amplitude of 0 state\n",
        "    self.y = self.y/length #ampltide of 1 state\n",
        "\n",
        "q1 = Qubit(0.12876,5.128367)\n",
        "print(q1.x, q1.y)\n",
        "\n",
        "q1.normalize()\n",
        "print(q1.x,q1.y)\n",
        "\n",
        "#x^2  + y^2 = 1\n",
        "\n",
        "print((q1.x**2) + (q1.y**2))\n",
        "\n",
        "\n",
        "\n",
        "\n",
        "\n",
        "\n",
        "\n",
        "\n"
      ]
    },
    {
      "cell_type": "markdown",
      "source": [
        "# Video 5: Representing bit operations with matrices\n"
      ],
      "metadata": {
        "id": "WuQRCorWEf5Z"
      }
    },
    {
      "cell_type": "code",
      "source": [
        "import numpy as np\n",
        "\n",
        "q1 = np.array([1/np.sqrt(3), np.sqrt(2)/np.sqrt(3)])\n",
        "print(q1)\n",
        "\n",
        "flip = np.array([[0,1],[1,0]])\n",
        "\n",
        "q2 = np.matmul(flip,q1) # matmul is matrix multiplication so it takes matrix on the left and multiplies by the matrix on the right --> flip * q1\n",
        "\n",
        "print(q2)"
      ],
      "metadata": {
        "colab": {
          "base_uri": "https://localhost:8080/"
        },
        "id": "TdDpAFzCSuha",
        "outputId": "d634433d-99b6-4700-c50b-873e1d9edb5c"
      },
      "execution_count": null,
      "outputs": [
        {
          "output_type": "stream",
          "name": "stdout",
          "text": [
            "[0.57735027 0.81649658]\n",
            "[0.81649658 0.57735027]\n"
          ]
        }
      ]
    },
    {
      "cell_type": "markdown",
      "source": [
        "# Video 6: Operation Composition and Quantum Algorithms\n"
      ],
      "metadata": {
        "id": "pwsPxq96FQZx"
      }
    },
    {
      "cell_type": "code",
      "source": [
        "import numpy as np\n",
        "flip = np.array([[0,1],[1,0]])\n",
        "identity = np.array([[1,0],[0,1]])\n",
        "flipid = np.kron(flip, identity) #finding the kronecker product of the flip matrix and the identity matrix! \n",
        "print(flipid)"
      ],
      "metadata": {
        "colab": {
          "base_uri": "https://localhost:8080/"
        },
        "id": "sjXZq6RJn5GZ",
        "outputId": "e241e257-fb73-4e03-ec51-bde74eeb4b62"
      },
      "execution_count": null,
      "outputs": [
        {
          "output_type": "stream",
          "name": "stdout",
          "text": [
            "[[0 0 1 0]\n",
            " [0 0 0 1]\n",
            " [1 0 0 0]\n",
            " [0 1 0 0]]\n"
          ]
        }
      ]
    },
    {
      "cell_type": "code",
      "source": [
        "q1= np.array([1,0]) \n",
        "q2 = np.array([0,1])\n",
        "q1q2 = np.kron(q1,q2)\n",
        "print(q1q2)"
      ],
      "metadata": {
        "colab": {
          "base_uri": "https://localhost:8080/"
        },
        "id": "lqjOu4o6oo4C",
        "outputId": "b3246eca-de36-4b3f-e39d-12611f588f38"
      },
      "execution_count": null,
      "outputs": [
        {
          "output_type": "stream",
          "name": "stdout",
          "text": [
            "[0 1 0 0]\n"
          ]
        }
      ]
    },
    {
      "cell_type": "code",
      "source": [
        "print(np.matmul(flipid, q1q2)) # this just represents the state |1> tensor |1>\n",
        "print(np.kron(np.array([0,1]),np.array([0,1])))"
      ],
      "metadata": {
        "colab": {
          "base_uri": "https://localhost:8080/"
        },
        "id": "lVwKRuASpS5V",
        "outputId": "98642129-6bc4-46d5-c7da-0b18636e5f6b"
      },
      "execution_count": null,
      "outputs": [
        {
          "output_type": "stream",
          "name": "stdout",
          "text": [
            "[0 0 0 1]\n",
            "[0 0 0 1]\n"
          ]
        }
      ]
    },
    {
      "cell_type": "markdown",
      "source": [
        "# Video 7: Operation Composition and Quantum Algorithm's\n"
      ],
      "metadata": {
        "id": "8Aox6W6NFynS"
      }
    },
    {
      "cell_type": "code",
      "source": [
        "import numpy as np \n",
        "cnot = np.array([[1,0,0,0], [0, 1, 0,0], [0,0,0,1], [0,0,1,0]])\n",
        "print(cnot)"
      ],
      "metadata": {
        "colab": {
          "base_uri": "https://localhost:8080/"
        },
        "id": "2sF1d-OeRciq",
        "outputId": "ec40bc1e-a9ea-4861-acf3-3a6a6f6ef24c"
      },
      "execution_count": null,
      "outputs": [
        {
          "output_type": "stream",
          "name": "stdout",
          "text": [
            "[[1 0 0 0]\n",
            " [0 1 0 0]\n",
            " [0 0 0 1]\n",
            " [0 0 1 0]]\n"
          ]
        }
      ]
    },
    {
      "cell_type": "code",
      "source": [
        "flip = np.array([[0,1],[1,0]])\n",
        "identity = np.array([[1,0],[0,1]])\n",
        "flipid = np.kron(flip, identity)\n",
        "\n",
        "algorithm = np.matmul(cnot,flipid) #matmul is a numpy function which multiplies the first parameter matrix by the second parameter matrix \n",
        "print(algorithm)"
      ],
      "metadata": {
        "colab": {
          "base_uri": "https://localhost:8080/"
        },
        "id": "sg7iDV2oR5CE",
        "outputId": "a576b2f1-57a4-4d2b-c022-94f234fe1dc8"
      },
      "execution_count": null,
      "outputs": [
        {
          "output_type": "stream",
          "name": "stdout",
          "text": [
            "[[0 0 1 0]\n",
            " [0 0 0 1]\n",
            " [0 1 0 0]\n",
            " [1 0 0 0]]\n"
          ]
        }
      ]
    },
    {
      "cell_type": "markdown",
      "source": [
        "# Video 9: Deutsch's Algorithm 2: The Solution\n"
      ],
      "metadata": {
        "id": "Cfu3bL-SNcQS"
      }
    },
    {
      "cell_type": "code",
      "source": [
        "import numpy as np\n",
        "\n",
        "hadamard = 1/np.sqrt(2)*np.array([[1,1],[1,-1]])\n",
        "print(hadamard)"
      ],
      "metadata": {
        "colab": {
          "base_uri": "https://localhost:8080/"
        },
        "id": "2Bgel-iczB2K",
        "outputId": "54d8a003-51d9-4eb1-9967-30cce4d2bab0"
      },
      "execution_count": null,
      "outputs": [
        {
          "output_type": "stream",
          "name": "stdout",
          "text": [
            "[[ 0.70710678  0.70710678]\n",
            " [ 0.70710678 -0.70710678]]\n"
          ]
        }
      ]
    },
    {
      "cell_type": "code",
      "source": [
        "import numpy as np\n",
        "\n",
        "identity = np.array([[1,0],[0,1]])\n",
        "flip = np.array([[0,1],[1,0]]) \n",
        "\n",
        "randnum = np.random.randint(0,2) \n",
        "\n",
        "f_balanced = randnum * identity + (1-randnum) * flip \n",
        "print('f_balanced:\\n', f_balanced)\n",
        "print()\n",
        "\n",
        "f_constant = randnum*np.array([[1,1],[0,0]])  + (1 - randnum)*np.array([[0,0],[-1, -1]])\n",
        "print('f_constant:\\n', f_constant)\n"
      ],
      "metadata": {
        "colab": {
          "base_uri": "https://localhost:8080/"
        },
        "id": "DrCoZFFpzTnH",
        "outputId": "da053c22-bb0a-4884-da3f-04b5b4926864"
      },
      "execution_count": null,
      "outputs": [
        {
          "output_type": "stream",
          "name": "stdout",
          "text": [
            "f_balanced:\n",
            " [[0 1]\n",
            " [1 0]]\n",
            "\n",
            "f_constant:\n",
            " [[ 0  0]\n",
            " [-1 -1]]\n"
          ]
        }
      ]
    },
    {
      "cell_type": "code",
      "source": [
        "f_total = np.kron(identity, f_balanced)\n",
        "print(f_total)"
      ],
      "metadata": {
        "colab": {
          "base_uri": "https://localhost:8080/"
        },
        "id": "WWstWy6d0gq5",
        "outputId": "e60fc3e8-1a8e-4c7e-c68e-e2d850a7e952"
      },
      "execution_count": null,
      "outputs": [
        {
          "output_type": "stream",
          "name": "stdout",
          "text": [
            "[[0 1 0 0]\n",
            " [1 0 0 0]\n",
            " [0 0 0 1]\n",
            " [0 0 1 0]]\n"
          ]
        }
      ]
    },
    {
      "cell_type": "code",
      "source": [
        "# f_total = np.kron(identity, f_constant) \n",
        "# print(f_total)"
      ],
      "metadata": {
        "colab": {
          "base_uri": "https://localhost:8080/"
        },
        "id": "re7MumWs0pDy",
        "outputId": "ae477f5e-0506-483e-e3c7-7c8cc2c44451"
      },
      "execution_count": null,
      "outputs": [
        {
          "output_type": "stream",
          "name": "stdout",
          "text": [
            "[[ 0  0  0  0]\n",
            " [-1 -1  0  0]\n",
            " [ 0  0  0  0]\n",
            " [ 0  0 -1 -1]]\n"
          ]
        }
      ]
    },
    {
      "cell_type": "code",
      "source": [
        "hadamard = 1/np.sqrt(2)*np.array([[1,1],[1,-1]])\n",
        "\n",
        "algorithm = np.kron(hadamard,hadamard) # start by applying the Hadamard operator to both qubits\n",
        "algorithm = np.matmul(f_total,algorithm) # apply f(x) next\n",
        "algorithm = np.matmul(np.kron(hadamard,identity),algorithm) # finally, apply the hadamard operator to the first qubit only\n",
        "print(algorithm)"
      ],
      "metadata": {
        "colab": {
          "base_uri": "https://localhost:8080/"
        },
        "id": "_U5bqPcB08Nr",
        "outputId": "c44f71b6-6756-446f-a317-b86938488471"
      },
      "execution_count": null,
      "outputs": [
        {
          "output_type": "stream",
          "name": "stdout",
          "text": [
            "[[ 0.00000000e+00  0.00000000e+00  0.00000000e+00  0.00000000e+00]\n",
            " [-1.41421356e+00  0.00000000e+00 -4.59869434e-17  0.00000000e+00]\n",
            " [ 0.00000000e+00  0.00000000e+00  0.00000000e+00  0.00000000e+00]\n",
            " [-4.59869434e-17  0.00000000e+00 -1.41421356e+00  0.00000000e+00]]\n"
          ]
        }
      ]
    },
    {
      "cell_type": "code",
      "source": [
        "input_state = np.kron(np.array([1,0]),np.array([0,1]))\n",
        "output_state = np.matmul(algorithm,input_state)\n",
        "print(input_state)\n",
        "print(output_state)"
      ],
      "metadata": {
        "colab": {
          "base_uri": "https://localhost:8080/"
        },
        "id": "ToUjvDZF1U_M",
        "outputId": "9e75369a-62c9-4199-ff40-b1d5ef95b86c"
      },
      "execution_count": null,
      "outputs": [
        {
          "output_type": "stream",
          "name": "stdout",
          "text": [
            "[0 1 0 0]\n",
            "[0. 0. 0. 0.]\n"
          ]
        }
      ]
    }
  ]
}